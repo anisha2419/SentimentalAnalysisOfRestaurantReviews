{
 "cells": [
  {
   "cell_type": "markdown",
   "metadata": {},
   "source": [
    "## Import libraries "
   ]
  },
  {
   "cell_type": "code",
   "execution_count": 1,
   "metadata": {
    "scrolled": true
   },
   "outputs": [
    {
     "name": "stderr",
     "output_type": "stream",
     "text": [
      "[nltk_data] Downloading package punkt to\n",
      "[nltk_data]     C:\\Users\\anish\\AppData\\Roaming\\nltk_data...\n",
      "[nltk_data]   Package punkt is already up-to-date!\n",
      "[nltk_data] Downloading package wordnet to\n",
      "[nltk_data]     C:\\Users\\anish\\AppData\\Roaming\\nltk_data...\n",
      "[nltk_data]   Package wordnet is already up-to-date!\n",
      "[nltk_data] Downloading package stopwords to\n",
      "[nltk_data]     C:\\Users\\anish\\AppData\\Roaming\\nltk_data...\n",
      "[nltk_data]   Package stopwords is already up-to-date!\n"
     ]
    }
   ],
   "source": [
    "import nltk\n",
    "nltk.download('punkt')\n",
    "import pandas as pd\n",
    "from sklearn.feature_extraction.text import CountVectorizer\n",
    "from sklearn.feature_extraction.text import TfidfVectorizer\n",
    "from sklearn.preprocessing import RobustScaler\n",
    "from sklearn.metrics import roc_auc_score\n",
    "from sklearn.metrics import confusion_matrix, accuracy_score\n",
    "from nltk.corpus import wordnet\n",
    "from nltk import pos_tag\n",
    "import re\n",
    "from collections import OrderedDict\n",
    "nltk.download('wordnet')\n",
    "from nltk.stem import WordNetLemmatizer \n",
    "import string\n",
    "from nltk import pos_tag\n",
    "from nltk.corpus import stopwords\n",
    "from nltk.tokenize import WhitespaceTokenizer\n",
    "from sklearn.svm import SVC\n",
    "from sklearn.model_selection import train_test_split\n",
    "from sklearn.metrics import confusion_matrix, accuracy_score\n",
    "import unicodedata, re, string\n",
    "nltk.download('stopwords')\n",
    "from nltk.corpus import stopwords\n",
    "from nltk.stem.porter import PorterStemmer"
   ]
  },
  {
   "cell_type": "markdown",
   "metadata": {},
   "source": [
    "## Import dataset"
   ]
  },
  {
   "cell_type": "code",
   "execution_count": 2,
   "metadata": {},
   "outputs": [
    {
     "name": "stdout",
     "output_type": "stream",
     "text": [
      "                                                Review  Liked\n",
      "0                             Wow... Loved this place.      1\n",
      "1                                   Crust is not good.      0\n",
      "2            Not tasty and the texture was just nasty.      0\n",
      "3    Stopped by during the late May bank holiday of...      1\n",
      "4    The selection on the menu was great and so wer...      1\n",
      "..                                                 ...    ...\n",
      "995  I think food should have flavor and texture an...      0\n",
      "996                           Appetite instantly gone.      0\n",
      "997  Overall I was not impressed and would not go b...      0\n",
      "998  The whole experience was underwhelming, and I ...      0\n",
      "999  Then, as if I hadn't wasted enough of my life ...      0\n",
      "\n",
      "[1000 rows x 2 columns]\n"
     ]
    }
   ],
   "source": [
    "# displaying the entire dataset\n",
    "total = pd.read_csv('Restaurant_Reviews.tsv',delimiter='\\t',quoting=3)\n",
    "print(total)"
   ]
  },
  {
   "cell_type": "code",
   "execution_count": 3,
   "metadata": {},
   "outputs": [
    {
     "name": "stdout",
     "output_type": "stream",
     "text": [
      "                                                Review Liked\n",
      "0    !....THE OWNERS REALLY REALLY need to quit bei...   [0]\n",
      "1    (It wasn't busy either) Also, the building was...   [0]\n",
      "2      (The bathroom is just next door and very nice.)   [1]\n",
      "3    * Both the Hot & Sour & the Egg Flower Soups w...   [1]\n",
      "4            - Really, really good rice, all the time.   [1]\n",
      "..                                                 ...   ...\n",
      "991        very slow at seating even with reservation.   [0]\n",
      "992               very tough and very short on flavor!   [0]\n",
      "993  walked in and the place smelled like an old gr...   [0]\n",
      "994                           will definitely be back!   [1]\n",
      "995  you can watch them preparing the delicious food!)   [1]\n",
      "\n",
      "[996 rows x 2 columns]\n"
     ]
    }
   ],
   "source": [
    "# using pandas library function groupby() to split the dataset into groups here based on 'review'\n",
    "# and return aggregated value for each group by using a lambda function\n",
    "total = total.groupby('Review').agg(lambda x: x.tolist())\n",
    "total = total.reset_index()\n",
    "print(total)"
   ]
  },
  {
   "cell_type": "markdown",
   "metadata": {},
   "source": [
    "### Create a list with reviews in column-index 0 and Liked in column-index 1"
   ]
  },
  {
   "cell_type": "code",
   "execution_count": 4,
   "metadata": {},
   "outputs": [
    {
     "name": "stdout",
     "output_type": "stream",
     "text": [
      "                                                     0  1\n",
      "0    !....THE OWNERS REALLY REALLY need to quit bei...  0\n",
      "1    (It wasn't busy either) Also, the building was...  0\n",
      "2      (The bathroom is just next door and very nice.)  1\n",
      "3    * Both the Hot & Sour & the Egg Flower Soups w...  1\n",
      "4            - Really, really good rice, all the time.  1\n",
      "..                                                 ... ..\n",
      "991        very slow at seating even with reservation.  0\n",
      "992               very tough and very short on flavor!  0\n",
      "993  walked in and the place smelled like an old gr...  0\n",
      "994                           will definitely be back!  1\n",
      "995  you can watch them preparing the delicious food!)  1\n",
      "\n",
      "[996 rows x 2 columns]\n"
     ]
    }
   ],
   "source": [
    "total_text = list()\n",
    "for lists in total.values:\n",
    "  combines_text = ''\n",
    "  for _ in lists[0]:\n",
    "    combines_text = combines_text + _\n",
    "  total_text.append([combines_text, lists[1][0]])\n",
    "#total_text\n",
    "total_text = pd.DataFrame(total_text)\n",
    "print(total_text)"
   ]
  },
  {
   "cell_type": "markdown",
   "metadata": {},
   "source": [
    "## Isolating the positive reviews"
   ]
  },
  {
   "cell_type": "code",
   "execution_count": 5,
   "metadata": {},
   "outputs": [
    {
     "name": "stdout",
     "output_type": "stream",
     "text": [
      "                                                     0  1\n",
      "2      (The bathroom is just next door and very nice.)  1\n",
      "3    * Both the Hot & Sour & the Egg Flower Soups w...  1\n",
      "4            - Really, really good rice, all the time.  1\n",
      "6             - the food is rich so order accordingly.  1\n",
      "9                                        2 Thumbs Up!!  1\n",
      "..                                                 ... ..\n",
      "986  the staff is friendly and the joint is always ...  1\n",
      "988                                this place is good.  1\n",
      "989  this was a different cut than the piece the ot...  1\n",
      "994                           will definitely be back!  1\n",
      "995  you can watch them preparing the delicious food!)  1\n",
      "\n",
      "[499 rows x 2 columns]\n"
     ]
    }
   ],
   "source": [
    "total_positive = total_text.copy()\n",
    "total_positive.columns\n",
    "total_positive = total_positive.loc[total_positive[1] == 1]\n",
    "print(total_positive)"
   ]
  },
  {
   "cell_type": "markdown",
   "metadata": {},
   "source": [
    "## Isolating negative reviews"
   ]
  },
  {
   "cell_type": "code",
   "execution_count": 6,
   "metadata": {},
   "outputs": [
    {
     "name": "stdout",
     "output_type": "stream",
     "text": [
      "                                                     0  1\n",
      "0    !....THE OWNERS REALLY REALLY need to quit bei...  0\n",
      "1    (It wasn't busy either) Also, the building was...  0\n",
      "5           - They never brought a salad we asked for.  0\n",
      "7    -Drinks took close to 30 minutes to come out a...  0\n",
      "8                           -My order was not correct.  0\n",
      "..                                                 ... ..\n",
      "987  this is the worst sushi i have ever eat beside...  0\n",
      "990  too bad cause I know it's family owned, I real...  0\n",
      "991        very slow at seating even with reservation.  0\n",
      "992               very tough and very short on flavor!  0\n",
      "993  walked in and the place smelled like an old gr...  0\n",
      "\n",
      "[497 rows x 2 columns]\n"
     ]
    }
   ],
   "source": [
    "total_negative = total_text.copy()\n",
    "total_negative.columns\n",
    "total_negative = total_negative.loc[total_negative[1] == 0]\n",
    "print(total_negative)"
   ]
  },
  {
   "cell_type": "markdown",
   "metadata": {},
   "source": [
    "## Refining the data"
   ]
  },
  {
   "cell_type": "code",
   "execution_count": 7,
   "metadata": {},
   "outputs": [
    {
     "name": "stderr",
     "output_type": "stream",
     "text": [
      "[nltk_data] Downloading package averaged_perceptron_tagger to\n",
      "[nltk_data]     C:\\Users\\anish\\AppData\\Roaming\\nltk_data...\n",
      "[nltk_data]   Package averaged_perceptron_tagger is already up-to-\n",
      "[nltk_data]       date!\n"
     ]
    },
    {
     "name": "stdout",
     "output_type": "stream",
     "text": [
      "                                                     0  1\n",
      "2      (The bathroom is just next door and very nice.)  1\n",
      "3    * Both the Hot & Sour & the Egg Flower Soups w...  1\n",
      "4            - Really, really good rice, all the time.  1\n",
      "6             - the food is rich so order accordingly.  1\n",
      "9                                        2 Thumbs Up!!  1\n",
      "..                                                 ... ..\n",
      "987  this is the worst sushi i have ever eat beside...  0\n",
      "990  too bad cause I know it's family owned, I real...  0\n",
      "991        very slow at seating even with reservation.  0\n",
      "992               very tough and very short on flavor!  0\n",
      "993  walked in and the place smelled like an old gr...  0\n",
      "\n",
      "[996 rows x 2 columns]\n"
     ]
    }
   ],
   "source": [
    "import nltk\n",
    "nltk.download('averaged_perceptron_tagger')\n",
    "\n",
    "def get_wordnet_pos(pos_tag):\n",
    "    if pos_tag.startswith('J'):\n",
    "        return wordnet.ADJ\n",
    "    elif pos_tag.startswith('V'):\n",
    "        return wordnet.VERB\n",
    "    elif pos_tag.startswith('N'):\n",
    "        return wordnet.NOUN\n",
    "    elif pos_tag.startswith('R'):\n",
    "        return wordnet.ADV\n",
    "    else:\n",
    "        return wordnet.NOUN\n",
    "\n",
    "\n",
    "cv = CountVectorizer()\n",
    "\n",
    "\n",
    "a=pd.concat([total_positive, total_negative], axis=0)\n",
    "print(a)\n",
    "corpus=[] #List will contain all refined reviews\n",
    "\n",
    "def lemmatize_verbs(words):\n",
    "#   Lemmatize verbs in list of tokenized words\n",
    "    lemmatizer = WordNetLemmatizer()\n",
    "    lemmas = []\n",
    "    for word in words:\n",
    "        lemma = lemmatizer.lemmatize(word, pos='v')\n",
    "        lemmas.append(lemma)\n",
    "    return lemmas\n",
    "\n",
    "# define punctuation\n",
    "punctuations = '''!()-[]{};:'\"\\,<>./?@#$%^&*_~'''\n",
    "\n",
    "for i in range(0,996):\n",
    "    review=a[0][i] # Collecting review one by one\n",
    "    #print(a[0][i])\n",
    "    review=re.sub('[^a-zA-Z]',' ',review) #Replacing punctuations with space\n",
    "    review=\"\".join(OrderedDict.fromkeys(review))\n",
    "    for word in review:\n",
    "        new_word = unicodedata.normalize('NFKD', word).encode('ascii', 'ignore').decode('utf-8', 'ignore')\n",
    "    review.join(new_word)\n",
    "    review=review.lower() #Converting to lower case\n",
    "    shortword = re.compile(r'\\W*\\b\\w{1,2}\\b')#Removing 2 letter words\n",
    "    review=shortword.sub('', review)\n",
    "    review.replace('nt','not')\n",
    "     # pos tag text\n",
    "    pos_tags = pos_tag(review.split())\n",
    "    # lemmatize text\n",
    "    review = [WordNetLemmatizer().lemmatize(t[0], get_wordnet_pos(t[1])) for t in pos_tags]\n",
    "    ''.join(set(review))\n",
    "    ps=PorterStemmer() #Creating object of porter stemmer\n",
    "    all_stopwords=stopwords.words('english') #Collecting english language stopwords\n",
    "    all_stopwords.remove('not')\n",
    "    \n",
    "    review=[ps.stem(word) for word in review if not word in set(all_stopwords)]\n",
    "    # Converting the list of word back to statement\n",
    "    # for this we will use join function\n",
    "    review=' '.join(review)\n",
    "    corpus.append(review) #Collecting refined reviews\n",
    "x=a[0]\n",
    "y= a[1]\n",
    "\n",
    "\n",
    "\n"
   ]
  },
  {
   "cell_type": "markdown",
   "metadata": {},
   "source": [
    "## Creating Word2Vec"
   ]
  },
  {
   "cell_type": "code",
   "execution_count": 8,
   "metadata": {},
   "outputs": [],
   "source": [
    "cv=TfidfVectorizer(max_features=10000)\n",
    "x1=cv.fit_transform(x).toarray()"
   ]
  },
  {
   "cell_type": "markdown",
   "metadata": {},
   "source": [
    "## Splitting x and y into train and test data"
   ]
  },
  {
   "cell_type": "code",
   "execution_count": 9,
   "metadata": {},
   "outputs": [],
   "source": [
    "x_train, x_test, y_train, y_test = train_test_split(x1, y, test_size = 0.25, random_state = 400)\n",
    "rs = RobustScaler(with_centering=True)\n",
    "x_train = rs.fit_transform(x_train)\n",
    "x_test = rs.fit_transform(x_test)"
   ]
  },
  {
   "cell_type": "markdown",
   "metadata": {},
   "source": [
    "## Creating and training svm model"
   ]
  },
  {
   "cell_type": "code",
   "execution_count": 10,
   "metadata": {},
   "outputs": [
    {
     "name": "stdout",
     "output_type": "stream",
     "text": [
      "Training Accuracy: 0.9946452476572959\n",
      "Testing Accuracy: 0.8554216867469879\n"
     ]
    },
    {
     "data": {
      "text/plain": [
       "<sklearn.metrics._plot.confusion_matrix.ConfusionMatrixDisplay at 0x29750218610>"
      ]
     },
     "execution_count": 10,
     "metadata": {},
     "output_type": "execute_result"
    },
    {
     "data": {
      "image/png": "[encoded data removed]",
      "text/plain": [
       "<Figure size 640x480 with 2 Axes>"
      ]
     },
     "metadata": {},
     "output_type": "display_data"
    }
   ],
   "source": [
    "from sklearn.metrics import confusion_matrix, ConfusionMatrixDisplay\n",
    "\n",
    "# Applying svm\n",
    "# Creating the model\n",
    "model = SVC(kernel='linear', random_state=400, C=2, gamma='scale', degree=5)\n",
    "# Fitting the training data to the model\n",
    "model.fit(x_train, y_train)\n",
    "# Predict y\n",
    "y_pred = model.predict(x_test)\n",
    "\n",
    "# Checking the accuracies\n",
    "print(\"Training Accuracy:\", model.score(x_train, y_train))\n",
    "print(\"Testing Accuracy:\", model.score(x_test, y_test))\n",
    "\n",
    "# Plotting the confusion matrix\n",
    "cm = confusion_matrix(y_test, y_pred)\n",
    "disp = ConfusionMatrixDisplay(confusion_matrix=cm, display_labels=model.classes_)\n",
    "disp.plot()\n"
   ]
  },
  {
   "cell_type": "markdown",
   "metadata": {},
   "source": [
    "## Creating and training svm-pca model"
   ]
  },
  {
   "cell_type": "code",
   "execution_count": 11,
   "metadata": {},
   "outputs": [
    {
     "name": "stdout",
     "output_type": "stream",
     "text": [
      "Training Accuracy: 0.9946452476572959\n",
      "Testing Accuracy: 0.8554216867469879\n"
     ]
    },
    {
     "data": {
      "text/plain": [
       "<sklearn.metrics._plot.confusion_matrix.ConfusionMatrixDisplay at 0x2975e433010>"
      ]
     },
     "execution_count": 11,
     "metadata": {},
     "output_type": "execute_result"
    },
    {
     "data": {
      "image/png": "[encoded data removed]",
      "text/plain": [
       "<Figure size 640x480 with 2 Axes>"
      ]
     },
     "metadata": {},
     "output_type": "display_data"
    }
   ],
   "source": [
    "from sklearn.metrics import confusion_matrix, ConfusionMatrixDisplay\n",
    "\n",
    "vectorizer = TfidfVectorizer()\n",
    "rs = RobustScaler()\n",
    "x = rs.fit_transform(x1)\n",
    "\n",
    "from sklearn.decomposition import PCA\n",
    "pca = PCA(n_components=2)\n",
    "x = pca.fit_transform(x)\n",
    "var = pca.explained_variance_ratio_\n",
    "\n",
    "# Creating the model\n",
    "model = SVC(kernel='linear', random_state=400, C=2, gamma='scale', degree=5)\n",
    "# Fitting the training data to the model\n",
    "model.fit(x_train, y_train)\n",
    "\n",
    "y_pred = model.predict(x_test)\n",
    "\n",
    "# Checking the accuracies\n",
    "print(\"Training Accuracy:\", model.score(x_train, y_train))\n",
    "print(\"Testing Accuracy:\", model.score(x_test, y_test))\n",
    "\n",
    "# Confusion Matrix\n",
    "cm = confusion_matrix(y_test, y_pred)\n",
    "disp = ConfusionMatrixDisplay(confusion_matrix=cm, display_labels=model.classes_)\n",
    "disp.plot()\n"
   ]
  },
  {
   "cell_type": "code",
   "execution_count": null,
   "metadata": {},
   "outputs": [],
   "source": []
  },
  {
   "cell_type": "code",
   "execution_count": null,
   "metadata": {},
   "outputs": [],
   "source": []
  }
 ],
 "metadata": {
  "kernelspec": {
   "display_name": "Python 3 (ipykernel)",
   "language": "python",
   "name": "python3"
  },
  "language_info": {
   "codemirror_mode": {
    "name": "ipython",
    "version": 3
   },
   "file_extension": ".py",
   "mimetype": "text/x-python",
   "name": "python",
   "nbconvert_exporter": "python",
   "pygments_lexer": "ipython3",
   "version": "3.11.7"
  }
 },
 "nbformat": 4,
 "nbformat_minor": 4
}
